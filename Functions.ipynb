{
  "nbformat": 4,
  "nbformat_minor": 0,
  "metadata": {
    "colab": {
      "provenance": [],
      "authorship_tag": "ABX9TyPLX5TjGMfY8h2aro9DyQj4",
      "include_colab_link": true
    },
    "kernelspec": {
      "name": "python3",
      "display_name": "Python 3"
    },
    "language_info": {
      "name": "python"
    }
  },
  "cells": [
    {
      "cell_type": "markdown",
      "metadata": {
        "id": "view-in-github",
        "colab_type": "text"
      },
      "source": [
        "<a href=\"https://colab.research.google.com/github/anjanisolanki/Functions-pw/blob/main/Functions.ipynb\" target=\"_parent\"><img src=\"https://colab.research.google.com/assets/colab-badge.svg\" alt=\"Open In Colab\"/></a>"
      ]
    },
    {
      "cell_type": "markdown",
      "source": [
        "# **Theory** Questions:"
      ],
      "metadata": {
        "id": "dqebhlSP1OV2"
      }
    },
    {
      "cell_type": "code",
      "execution_count": 21,
      "metadata": {
        "colab": {
          "base_uri": "https://localhost:8080/"
        },
        "id": "RULyS9Zn3j-A",
        "outputId": "433fe17f-67f3-45ae-9329-e4c279e1ef9f"
      },
      "outputs": [
        {
          "output_type": "stream",
          "name": "stdout",
          "text": [
            "Hello, Anjani Solanki\n",
            "ANJANI\n"
          ]
        }
      ],
      "source": [
        "# 1. What is the difference between a function and a method in Python?\n",
        "\n",
        "# Function - A function is a block of code that works independently.\n",
        "#ex-1\n",
        "def greet(name):\n",
        "  return f\"Hello, {name}\"\n",
        "print(greet(\"Anjani Solanki\"))\n",
        "\n",
        "# Method - A method is also a function, but it is attached to an object (like a string, list, etc.). It is called using a dot (.) after the object.\n",
        "#ex-2\n",
        "name = \"Anjani\"\n",
        "print(name.upper())"
      ]
    },
    {
      "cell_type": "code",
      "source": [
        "# 2. Explain the concept of function arguments and parameters in Python.\n",
        "\n",
        "# Parameters are the names used inside the function to receive values.\n",
        "# Arguments are the actual values you pass to the function when calling it.\n",
        "\n",
        "# ex-1\n",
        "def greet(name): # \"name\" is a **parameter**\n",
        " print(\"Hello\", name)\n",
        "\n",
        "greet(\"Anjani\") # \"Anjani\" is an **argument**\n",
        "\n",
        "\n",
        "# ex-2\n",
        "def add(a, b): # a and b are **parameters**\n",
        "  return a + b\n",
        "\n",
        "print(add(2, 4)) # 2 and 4 are **arguments**"
      ],
      "metadata": {
        "colab": {
          "base_uri": "https://localhost:8080/"
        },
        "id": "kXRY91301mwk",
        "outputId": "8e98bb16-dbc7-41e8-f5ea-596d49586ff9"
      },
      "execution_count": 22,
      "outputs": [
        {
          "output_type": "stream",
          "name": "stdout",
          "text": [
            "Hello Anjani\n",
            "6\n"
          ]
        }
      ]
    },
    {
      "cell_type": "code",
      "source": [
        "# 3. What are the different ways to define and call a function in Python?\n",
        "# Different Ways to Define and Call a Function in Python\n",
        "\n",
        "# examples--\n",
        "# 1. Normal Function (No Input)\n",
        "\n",
        "def say_hello():\n",
        " print(\"Hello\")\n",
        "\n",
        "say_hello()\n",
        "\n",
        "# 2. Function with Parameters\n",
        "\n",
        "def greet(name):\n",
        "  print(\"Hello\", name)\n",
        "\n",
        "greet(\"Anjani\")\n",
        "\n",
        "# 3. Function with Default Parameter\n",
        "\n",
        "def greet(name = \"Sid\"):\n",
        "  print(\"Hello\", name)\n",
        "\n",
        "greet() # output: Hello Sid\n",
        "greet(\"Anjani Solanki\") # output: Hello Anjani Solanki\n",
        "\n",
        "# 4. Function with Return Value\n",
        "\n",
        "def add(a, b):\n",
        "  return a + b\n",
        "\n",
        "result = add(100, 200)\n",
        "print(result)\n",
        "\n",
        "# 5. Function with *args\n",
        "\n",
        "def total(*numbers):\n",
        "  print(sum(numbers))\n",
        "\n",
        "total(1, 2, 3) # output-6\n",
        "\n",
        "# 6. Function with **kwargs\n",
        "\n",
        "def show_info(**data):\n",
        "  for key, value in data.items():\n",
        "    print(key, \":\", value)\n",
        "\n",
        "show_info(name=\"Anju\", age=25)\n",
        "\n",
        " # 7. Lambda Function (One-Line Function)\n",
        "\n",
        "add = lambda a, b: a + b\n",
        "print(add(5, 5)) # output-10"
      ],
      "metadata": {
        "colab": {
          "base_uri": "https://localhost:8080/"
        },
        "id": "QwvUXUIT1pjJ",
        "outputId": "7f0405a3-c20b-427d-bb34-e20841d75b3a"
      },
      "execution_count": 23,
      "outputs": [
        {
          "output_type": "stream",
          "name": "stdout",
          "text": [
            "Hello\n",
            "Hello Anjani\n",
            "Hello Sid\n",
            "Hello Anjani Solanki\n",
            "300\n",
            "6\n",
            "name : Anju\n",
            "age : 25\n",
            "10\n"
          ]
        }
      ]
    },
    {
      "cell_type": "code",
      "source": [
        "# 4. What is the purpose of the `return` statement in a Python function?\n",
        "\n",
        "# The return statement is used to send a value back from the function to the place where it was called.\n",
        "# Purpose of return:\n",
        "#To give back a result after the function finishes.\n",
        "#To store or use the result outside the function.\n",
        "\n",
        "#ex-\n",
        "def add(a, b):\n",
        "  return a + b\n",
        "\n",
        "result = add(9, 10)\n",
        "print(result)"
      ],
      "metadata": {
        "colab": {
          "base_uri": "https://localhost:8080/"
        },
        "id": "eKYJQlaF1tsF",
        "outputId": "5508a66b-6f61-4349-b9b5-54e1b11977fb"
      },
      "execution_count": 24,
      "outputs": [
        {
          "output_type": "stream",
          "name": "stdout",
          "text": [
            "19\n"
          ]
        }
      ]
    },
    {
      "cell_type": "code",
      "source": [
        "# 5. What are iterators in Python and how do they differ from iterables?\n",
        "\n",
        "# Iterable - An iterable is any object in Python that you can loop through using a for loop.\n",
        "# Examples of iterables: list, tuple str, dict, set\n",
        "\n",
        "my_list = [10, 20, 30, 40, 50]\n",
        "for i in my_list:\n",
        "  print(i)\n",
        "\n",
        "# Iterator –\n",
        "# An iterator is an object that remembers where it is during iteration.\n",
        "# It gives the next value when asked using next().\n",
        "\n",
        "# We can create an iterator using the iter() function.\n",
        "my_list = [1,2,3]\n",
        "my_iter = iter(my_list)\n",
        "\n",
        "print(next(my_iter)) # Output: 1\n",
        "print(next(my_iter)) # Output: 2\n",
        "print(next(my_iter)) # Output: 3"
      ],
      "metadata": {
        "colab": {
          "base_uri": "https://localhost:8080/"
        },
        "id": "ReTeGu-D1vyA",
        "outputId": "6cb09387-3ef0-4ffa-9cae-59799c35217a"
      },
      "execution_count": 25,
      "outputs": [
        {
          "output_type": "stream",
          "name": "stdout",
          "text": [
            "10\n",
            "20\n",
            "30\n",
            "40\n",
            "50\n",
            "1\n",
            "2\n",
            "3\n"
          ]
        }
      ]
    },
    {
      "cell_type": "code",
      "source": [
        "# 6. Explain the concept of generators in Python and how they are defined.\n",
        "\n",
        "# A generator is a special type of function that gives values one by one, only when needed — not all at once. It uses the yield keyword instead of return.\n",
        "# Use Generators: Saves memory, Gives values on demand, Good for large data or long loops\n",
        "\n",
        "# Use the def keyword like a normal function, but use yield instead of return.\n",
        "#ex-\n",
        "def count_up_to(n):\n",
        "  i = 1\n",
        "  while i <= n:\n",
        "    yield i\n",
        "    i += 1\n",
        "\n",
        "for num in count_up_to(5):\n",
        "  print(num)"
      ],
      "metadata": {
        "colab": {
          "base_uri": "https://localhost:8080/"
        },
        "id": "SOFPYvfP1yhN",
        "outputId": "fd8884c8-17ad-4f75-ea45-bcda9ff37d56"
      },
      "execution_count": 26,
      "outputs": [
        {
          "output_type": "stream",
          "name": "stdout",
          "text": [
            "1\n",
            "2\n",
            "3\n",
            "4\n",
            "5\n"
          ]
        }
      ]
    },
    {
      "cell_type": "code",
      "source": [
        "# 7. What are the advantages of using generators over regular functions?\n",
        "\n",
        "# A generator is a special type of function that gives values one at a time using yield, instead of giving all values at once like a normal function with return.\n",
        "# Advantages of using generators over regular functions.\n",
        "\n",
        "def my_gen():\n",
        "  for i in range(3):\n",
        "    yield i\n",
        "\n",
        "G = my_gen()\n",
        "print(next(G)) # Output: 0\n",
        "print(next(G)) # Output: 1\n",
        "print(next(G)) # Output: 2"
      ],
      "metadata": {
        "colab": {
          "base_uri": "https://localhost:8080/"
        },
        "id": "2NPjWN7A10me",
        "outputId": "8301c67f-74d1-4804-8d5f-3ee3786019ad"
      },
      "execution_count": 27,
      "outputs": [
        {
          "output_type": "stream",
          "name": "stdout",
          "text": [
            "0\n",
            "1\n",
            "2\n"
          ]
        }
      ]
    },
    {
      "cell_type": "code",
      "source": [
        "# 8. What is a lambda function in Python and when is it typically used?\n",
        "\n",
        "# A lambda function is a short, one-line function in Python that we can write without using def.\n",
        "# It is also called an anonymous function (no name).\n",
        "\n",
        "add = lambda a, b: a + b\n",
        "print(add(3, 5))\n",
        "\n",
        "# Lambda functions are used when:\n",
        "# 1. We need a quick/simple function - For small calculations, filtering, sorting, etc.\n",
        "# 2. We don’t want to define a full function using def\n",
        "# 3. We use functions inside another function (like map, filter, sorted)"
      ],
      "metadata": {
        "colab": {
          "base_uri": "https://localhost:8080/"
        },
        "id": "37u2xLUg137Q",
        "outputId": "33c42e83-20a0-4b0a-8cb6-d4532eaf1f90"
      },
      "execution_count": 28,
      "outputs": [
        {
          "output_type": "stream",
          "name": "stdout",
          "text": [
            "8\n"
          ]
        }
      ]
    },
    {
      "cell_type": "code",
      "source": [
        "# 9. Explain the purpose and usage of the `map()` function in Python.\n",
        "\n",
        "# The map() function is used to apply a function to each item in a list (or any iterable), and it gives a new result for each item.\n",
        "# To quickly process all items in a list without using a for loop.\n",
        "\n",
        "numbers = [1, 2, 3, 4]\n",
        "\n",
        "doubled = map(lambda x: x**2, numbers)\n",
        "print(list(doubled))"
      ],
      "metadata": {
        "colab": {
          "base_uri": "https://localhost:8080/"
        },
        "id": "NKu3j63N16rZ",
        "outputId": "a32cddce-aed7-4fa9-bc1b-6d97ddbd758e"
      },
      "execution_count": 29,
      "outputs": [
        {
          "output_type": "stream",
          "name": "stdout",
          "text": [
            "[1, 4, 9, 16]\n"
          ]
        }
      ]
    },
    {
      "cell_type": "code",
      "source": [
        "# 10. What is the difference between `map()`, `reduce()`, and `filter()` functions in Python?\n",
        "\n",
        "# 1. map() – Apply a function to each item\n",
        "# Changes every item using a function.\n",
        "\n",
        "nums = [1, 2, 3, 4]\n",
        "result = list(map(lambda x: x * 2, nums))\n",
        "print(result) # Output: [2, 4, 6, 8]\n",
        "\n",
        "# 2. filter() – Keep only items that match a condition\n",
        "# Filters out items that don’t match a rule.\n",
        "\n",
        "nums = [1, 2, 3, 4, 5]\n",
        "result = list(filter(lambda x: x % 2 == 0, nums))\n",
        "print(result) # Output: [2, 4]\n",
        "\n",
        "# 3. reduce() – Combine all items into one\n",
        "# Repeatedly applies a function to combine all values.\n",
        "\n",
        "from functools import reduce\n",
        "\n",
        "nums = [1, 2, 3, 4]\n",
        "result = reduce(lambda x, y: x + y, nums)\n",
        "print(result) # Output: 10"
      ],
      "metadata": {
        "colab": {
          "base_uri": "https://localhost:8080/"
        },
        "id": "pR5AwuLo19EU",
        "outputId": "9651d6da-5eff-4f4c-ed5a-72c3784c952e"
      },
      "execution_count": 30,
      "outputs": [
        {
          "output_type": "stream",
          "name": "stdout",
          "text": [
            "[2, 4, 6, 8]\n",
            "[2, 4]\n",
            "10\n"
          ]
        }
      ]
    },
    {
      "cell_type": "code",
      "source": [
        "# 11. Using pen & Paper write the internal mechanism for sum operation using  reduce function on this given list:[47,11,42,13]\n",
        "\n",
        "from functools import reduce\n",
        "\n",
        "nums = [47, 11, 42, 13]\n",
        "total = reduce(lambda x, y: x + y, nums)\n",
        "print(total) # Output: 113"
      ],
      "metadata": {
        "colab": {
          "base_uri": "https://localhost:8080/"
        },
        "id": "2LqEOXZt2R2t",
        "outputId": "403690f4-ee0a-43ad-97f4-892bb83d3b76"
      },
      "execution_count": 31,
      "outputs": [
        {
          "output_type": "stream",
          "name": "stdout",
          "text": [
            "113\n"
          ]
        }
      ]
    },
    {
      "cell_type": "markdown",
      "source": [
        "# **Practical Questions:**"
      ],
      "metadata": {
        "id": "alL34k-L2f8N"
      }
    },
    {
      "cell_type": "code",
      "source": [
        "# 1. Write a Python function that takes a list of numbers as input and returns the sum of all even numbers in the list.\n",
        "\n",
        "def sum_of_even(numbers):\n",
        "  total = 0\n",
        "  for num in numbers:\n",
        "    if num % 2 == 0: # cheak if number is even\n",
        "      total += num # add to total if even\n",
        "  return total\n",
        "\n",
        "#def sum_of_even(numbers):\n",
        "#  return sum(num for num in numbers if num % 2 == 0)\n",
        "\n",
        "my_list = [2, 5, 8, 11, 14]\n",
        "result = sum_of_even(my_list)\n",
        "print(result)"
      ],
      "metadata": {
        "colab": {
          "base_uri": "https://localhost:8080/"
        },
        "id": "Zqa53GZw2kH6",
        "outputId": "fbe92a9e-a141-4b2e-905b-5b8fb6c930d8"
      },
      "execution_count": 32,
      "outputs": [
        {
          "output_type": "stream",
          "name": "stdout",
          "text": [
            "24\n"
          ]
        }
      ]
    },
    {
      "cell_type": "code",
      "source": [
        "# 2. Create a Python function that accepts a string and returns the reverse of that string.\n",
        "\n",
        "def reverse_string(text):\n",
        "    reversed_text = ''\n",
        "    for i in text:\n",
        "        reversed_text = i + reversed_text\n",
        "    return reversed_text\n",
        "\n",
        "# def reverse_string(text):\n",
        "   # return text[::-1]\n",
        "\n",
        "result = reverse_string(\"hello\")\n",
        "print(result)"
      ],
      "metadata": {
        "colab": {
          "base_uri": "https://localhost:8080/"
        },
        "id": "USdqY7Wi28dx",
        "outputId": "5977b482-e5bf-4850-9954-3b76adefdaf4"
      },
      "execution_count": 33,
      "outputs": [
        {
          "output_type": "stream",
          "name": "stdout",
          "text": [
            "olleh\n"
          ]
        }
      ]
    },
    {
      "cell_type": "code",
      "source": [
        "# 3. Implement a Python function that takes a list of integers and returns a new list containing the squares of each number.\n",
        "\n",
        "def square_numbers(numbers):\n",
        "    squared_list = []\n",
        "    for num in numbers:\n",
        "        squared_list.append(num ** 2)\n",
        "    return squared_list\n",
        "\n",
        "# def square_numbers(numbers):\n",
        "  #  return [num ** 2 for num in numbers]\n",
        "\n",
        "my_list = [1, 2, 3, 4, 5]\n",
        "result = square_numbers(my_list)\n",
        "print(result)"
      ],
      "metadata": {
        "colab": {
          "base_uri": "https://localhost:8080/"
        },
        "id": "pXOY4_wS2_my",
        "outputId": "7cf0c7a8-d069-4b37-de2d-9a828fe7a3cf"
      },
      "execution_count": 34,
      "outputs": [
        {
          "output_type": "stream",
          "name": "stdout",
          "text": [
            "[1, 4, 9, 16, 25]\n"
          ]
        }
      ]
    },
    {
      "cell_type": "code",
      "source": [
        "# 4. Write a Python function that checks if a given number is prime or not from 1 to 200.\n",
        "\n",
        "def is_prime(n):\n",
        "    if n <= 1:\n",
        "        return False  # 0 and 1 are not prime numbers\n",
        "    for i in range(2, int(n**0.5) + 1):\n",
        "        if n % i == 0:\n",
        "            return False  # found a divisor, not prime\n",
        "    return True\n",
        "\n",
        "for number in range(1, 201):\n",
        "    if is_prime(number):\n",
        "        print(number)"
      ],
      "metadata": {
        "colab": {
          "base_uri": "https://localhost:8080/"
        },
        "id": "fjwKSIpK3Dk4",
        "outputId": "afec3dd3-fc72-4da5-801e-24a4049ecd13"
      },
      "execution_count": 35,
      "outputs": [
        {
          "output_type": "stream",
          "name": "stdout",
          "text": [
            "2\n",
            "3\n",
            "5\n",
            "7\n",
            "11\n",
            "13\n",
            "17\n",
            "19\n",
            "23\n",
            "29\n",
            "31\n",
            "37\n",
            "41\n",
            "43\n",
            "47\n",
            "53\n",
            "59\n",
            "61\n",
            "67\n",
            "71\n",
            "73\n",
            "79\n",
            "83\n",
            "89\n",
            "97\n",
            "101\n",
            "103\n",
            "107\n",
            "109\n",
            "113\n",
            "127\n",
            "131\n",
            "137\n",
            "139\n",
            "149\n",
            "151\n",
            "157\n",
            "163\n",
            "167\n",
            "173\n",
            "179\n",
            "181\n",
            "191\n",
            "193\n",
            "197\n",
            "199\n"
          ]
        }
      ]
    },
    {
      "cell_type": "code",
      "source": [
        "# 5. Create an iterator class in Python that generates the Fibonacci sequence up to a specified number of terms.\n",
        "\n",
        "class FibonacciIterator:\n",
        "    def __init__(self, n_terms):\n",
        "        self.n_terms = n_terms  # total number of terms to generate\n",
        "        self.count = 0          # to keep track of how many terms generated\n",
        "        self.a = 0              # first Fibonacci number\n",
        "        self.b = 1              # second Fibonacci number\n",
        "\n",
        "    def __iter__(self):\n",
        "        return self  # returns the iterator object itself\n",
        "\n",
        "    def __next__(self):\n",
        "        if self.count >= self.n_terms:\n",
        "            raise StopIteration  # stop when terms are finished\n",
        "        if self.count == 0:\n",
        "            self.count += 1\n",
        "            return self.a\n",
        "        elif self.count == 1:\n",
        "            self.count += 1\n",
        "            return self.b\n",
        "        else:\n",
        "            next_value = self.a + self.b\n",
        "            self.a, self.b = self.b, next_value\n",
        "            self.count += 1\n",
        "            return next_value\n",
        "\n",
        "\n",
        "fib = FibonacciIterator(10)  # generate first 10 Fibonacci numbers\n",
        "\n",
        "for num in fib:\n",
        "    print(num, end=\" \")"
      ],
      "metadata": {
        "colab": {
          "base_uri": "https://localhost:8080/"
        },
        "id": "XyK9TnRS3HI5",
        "outputId": "87341edc-2aef-4841-c955-a6ed9afa8436"
      },
      "execution_count": 36,
      "outputs": [
        {
          "output_type": "stream",
          "name": "stdout",
          "text": [
            "0 1 1 2 3 5 8 13 21 34 "
          ]
        }
      ]
    },
    {
      "cell_type": "code",
      "source": [
        "# 6. Write a generator function in Python that yields the powers of 2 up to a given exponent.\n",
        "\n",
        "def powers_of_two(max_exp):\n",
        "    for i in range(max_exp + 1):\n",
        "        yield 2 ** i\n",
        "\n",
        "for num in powers_of_two(5):\n",
        "    print(num)"
      ],
      "metadata": {
        "colab": {
          "base_uri": "https://localhost:8080/"
        },
        "id": "VVujpkYo3KwY",
        "outputId": "b18af933-3b4f-4646-e662-c426deb20364"
      },
      "execution_count": 37,
      "outputs": [
        {
          "output_type": "stream",
          "name": "stdout",
          "text": [
            "1\n",
            "2\n",
            "4\n",
            "8\n",
            "16\n",
            "32\n"
          ]
        }
      ]
    },
    {
      "cell_type": "code",
      "source": [
        "# 7. Implement a generator function that reads a file line by line and yields each line as a string.\n",
        "\n",
        "def read_file_line_by_line(filename):\n",
        "    with open(filename, 'r') as file:\n",
        "        for line in file:\n",
        "            yield line.strip()  # strip() removes the newline character\n",
        "\n",
        "for line in read_file_line_by_line(\"/myfile.txt\"):\n",
        "    print(line)"
      ],
      "metadata": {
        "colab": {
          "base_uri": "https://localhost:8080/"
        },
        "id": "zwqpK8Sj3NKK",
        "outputId": "7c4caaf2-8412-4a56-d048-91748e332c7d"
      },
      "execution_count": 38,
      "outputs": [
        {
          "output_type": "stream",
          "name": "stdout",
          "text": [
            "Hello World\n",
            "Welcome to Python\n",
            "This is a file read test\n"
          ]
        }
      ]
    },
    {
      "cell_type": "code",
      "source": [
        "# 8. Use a lambda function in Python to sort a list of tuples based on the second element of each tuple.\n",
        "\n",
        "data = [(1, 5), (3, 1), (2, 8), (4, 2)]\n",
        "sorted_data = sorted(data, key=lambda x: x[1])\n",
        "print(sorted_data)"
      ],
      "metadata": {
        "id": "vfwAFHyq3QN8",
        "colab": {
          "base_uri": "https://localhost:8080/"
        },
        "outputId": "23a28c95-457a-43e7-84eb-806bc214cd56"
      },
      "execution_count": 39,
      "outputs": [
        {
          "output_type": "stream",
          "name": "stdout",
          "text": [
            "[(3, 1), (4, 2), (1, 5), (2, 8)]\n"
          ]
        }
      ]
    },
    {
      "cell_type": "code",
      "source": [
        "# 9. Write a Python program that uses `map()` to convert a list of temperatures from Celsius to Fahrenheit.\n",
        "\n",
        "\n",
        "celsius_temps = [0, 20, 37, 100]\n",
        "fahrenheit_temps = list(map(lambda c: (c * 9/5) + 32, celsius_temps))\n",
        "print(\"Celsius:\", celsius_temps)\n",
        "print(\"Fahrenheit:\", fahrenheit_temps)"
      ],
      "metadata": {
        "id": "zh9tA5nT3TnG",
        "colab": {
          "base_uri": "https://localhost:8080/"
        },
        "outputId": "ebaa014d-559e-4a73-9fa0-2b2a11d63e36"
      },
      "execution_count": 40,
      "outputs": [
        {
          "output_type": "stream",
          "name": "stdout",
          "text": [
            "Celsius: [0, 20, 37, 100]\n",
            "Fahrenheit: [32.0, 68.0, 98.6, 212.0]\n"
          ]
        }
      ]
    },
    {
      "cell_type": "code",
      "source": [
        "# 10. Create a Python program that uses `filter()` to remove all the vowels from a given string.\n",
        "\n",
        "def remove_vowels(text):\n",
        "    vowels = 'aeiouAEIOU'\n",
        "    return ''.join(filter(lambda char: char not in vowels, text))\n",
        "\n",
        "input_text = \"Anjani Solanki\"\n",
        "result = remove_vowels(input_text)\n",
        "print(result)"
      ],
      "metadata": {
        "id": "bzwLf9I13V2g",
        "colab": {
          "base_uri": "https://localhost:8080/"
        },
        "outputId": "9603a8fd-4da8-40b5-e0bf-50397c91b353"
      },
      "execution_count": 41,
      "outputs": [
        {
          "output_type": "stream",
          "name": "stdout",
          "text": [
            "njn Slnk\n"
          ]
        }
      ]
    },
    {
      "cell_type": "code",
      "source": [
        "# 11) Imagine an accounting routine used in a book shop. It works on a list with sublists, which look like this:\n",
        "\n",
        "orders = [\n",
        "    [34587, \"Learning Python, Mark Lutz\", 4, 40.95],\n",
        "    [98762, \"Programming Python, Mark Lutz\", 5, 56.80],\n",
        "    [77226, \"Head First Python, Paul Barry\", 3, 32.95],\n",
        "    [88112, \"Einführung in Python3, Bernd Klein\", 3, 24.99]\n",
        "]\n",
        "\n",
        "# Use lambda and map to calculate the total price per order\n",
        "result = list(map(lambda order: (\n",
        "    order[0],\n",
        "    round(order[2] * order[3] + (10 if order[2] * order[3] < 100 else 0), 2)\n",
        "), orders))\n",
        "\n",
        "print(result)\n"
      ],
      "metadata": {
        "id": "XcVKDuhm3Y3_",
        "colab": {
          "base_uri": "https://localhost:8080/"
        },
        "outputId": "c9bf1881-459a-4545-de98-462046b6f422"
      },
      "execution_count": 42,
      "outputs": [
        {
          "output_type": "stream",
          "name": "stdout",
          "text": [
            "[(34587, 163.8), (98762, 284.0), (77226, 108.85), (88112, 84.97)]\n"
          ]
        }
      ]
    }
  ]
}